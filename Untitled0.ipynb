{
  "nbformat": 4,
  "nbformat_minor": 0,
  "metadata": {
    "colab": {
      "provenance": [],
      "authorship_tag": "ABX9TyM2iaiqnuH/VzX7EmglZOox",
      "include_colab_link": true
    },
    "kernelspec": {
      "name": "python3",
      "display_name": "Python 3"
    },
    "language_info": {
      "name": "python"
    }
  },
  "cells": [
    {
      "cell_type": "markdown",
      "metadata": {
        "id": "view-in-github",
        "colab_type": "text"
      },
      "source": [
        "<a href=\"https://colab.research.google.com/github/itsaditya0/learn-python/blob/main/Untitled0.ipynb\" target=\"_parent\"><img src=\"https://colab.research.google.com/assets/colab-badge.svg\" alt=\"Open In Colab\"/></a>"
      ]
    },
    {
      "cell_type": "code",
      "execution_count": 4,
      "metadata": {
        "colab": {
          "base_uri": "https://localhost:8080/"
        },
        "id": "CxRV2BXh0g0j",
        "outputId": "4fad603f-3d7a-4aad-ad28-c84ab6daea7b"
      },
      "outputs": [
        {
          "output_type": "stream",
          "name": "stdout",
          "text": [
            "['ram', '1', 'sham', '2']\n",
            "['1', '2', 'ram', 'sham']\n",
            "[1, 2, 'ram']\n",
            "[1, 2, 'ram', 'sham']\n"
          ]
        }
      ],
      "source": [
        "l=[\"ram\",1,\"sham\",2]\n",
        "l=[str(i) for i in l]\n",
        "print(l)\n",
        "\n",
        "l.sort()\n",
        "print(l)\n",
        "\n",
        "l1=[]\n",
        "for i in l:\n",
        "  try:\n",
        "    l1.append(int(i))\n",
        "  except:\n",
        "    l1.append(i)\n",
        "    print(l1)"
      ]
    }
  ]
}